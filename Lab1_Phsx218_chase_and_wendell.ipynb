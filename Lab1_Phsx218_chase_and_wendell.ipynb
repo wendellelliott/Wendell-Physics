{
 "cells": [
  {
   "cell_type": "markdown",
   "metadata": {
    "deletable": true,
    "editable": true
   },
   "source": [
    "$\\alpha = \\frac{\\Delta L}{L*\\Delta T}$"
   ]
  },
  {
   "cell_type": "code",
   "execution_count": 1,
   "metadata": {
    "collapsed": false,
    "deletable": true,
    "editable": true
   },
   "outputs": [
    {
     "name": "stdout",
     "output_type": "stream",
     "text": [
      "0.31622776601683794\n"
     ]
    }
   ],
   "source": [
    "import numpy as np\n",
    "\n",
    "def rule3(dA,dB): \n",
    "    dQ = np.sqrt(dA**2 + dB**2)\n",
    "    return dQ\n",
    "\n",
    "dT_i = 0.3 #C\n",
    "dT_f = 0.1 #C\n",
    "\n",
    "d_Delta_T = rule3(dT_i, dT_f)\n",
    "\n",
    "print (d_Delta_T)"
   ]
  },
  {
   "cell_type": "code",
   "execution_count": 6,
   "metadata": {
    "collapsed": false,
    "deletable": true,
    "editable": true
   },
   "outputs": [
    {
     "name": "stdout",
     "output_type": "stream",
     "text": [
      "1.6009697557183024e-07\n"
     ]
    }
   ],
   "source": [
    "import numpy as np\n",
    "\n",
    "def rule4 (A,B,C,D,dB,dC,dD):\n",
    "    d_alpha = A*np.sqrt((dB/B)**2+(dC/C)**2+(dD/D)**2)\n",
    "    return d_alpha\n",
    "\n",
    "alpha = .000017228 #m\n",
    "Delta_L = .00125 #m\n",
    "L = 1.05 #m\n",
    "Delta_T = 69.1 #C\n",
    "d_Delta_L =.00001 #m\n",
    "d_L = .00125 #m\n",
    "d_Delta_T = .3162 #C\n",
    "\n",
    "err_alpha = rule4(alpha,Delta_L,L,Delta_T,d_Delta_L,d_L,d_Delta_T)\n",
    "\n",
    "print (err_alpha)"
   ]
  },
  {
   "cell_type": "code",
   "execution_count": 3,
   "metadata": {
    "collapsed": false,
    "deletable": true,
    "editable": true
   },
   "outputs": [
    {
     "name": "stdout",
     "output_type": "stream",
     "text": [
      "1.722830955826614e-05\n"
     ]
    }
   ],
   "source": [
    "import numpy as np\n",
    "\n",
    "def expansion (A,B,C):\n",
    "    alpha = (A*B**-1*C**-1)\n",
    "    return alpha\n",
    "\n",
    "delta_L = .00125 #m\n",
    "L = 1.05 #m\n",
    "delta_T = 69.1 #C\n",
    "\n",
    "alpha = expansion(delta_L,L,delta_T)\n",
    "\n",
    "print (alpha)\n",
    "\n"
   ]
  },
  {
   "cell_type": "code",
   "execution_count": null,
   "metadata": {
    "collapsed": true,
    "deletable": true,
    "editable": true
   },
   "outputs": [],
   "source": []
  }
 ],
 "metadata": {
  "kernelspec": {
   "display_name": "Python 2",
   "language": "python",
   "name": "python2"
  },
  "language_info": {
   "codemirror_mode": {
    "name": "ipython",
    "version": 2
   },
   "file_extension": ".py",
   "mimetype": "text/x-python",
   "name": "python",
   "nbconvert_exporter": "python",
   "pygments_lexer": "ipython2",
   "version": "2.7.13"
  }
 },
 "nbformat": 4,
 "nbformat_minor": 2
}
